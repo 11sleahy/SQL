{
 "cells": [
  {
   "cell_type": "code",
   "execution_count": null,
   "metadata": {},
   "outputs": [],
   "source": [
    "#Q1: Some of the facilities charge a fee to members, but some do not.\n",
    "#Please list the names of the facilities that do.\n",
    "select name\n",
    "from Facilities \n",
    "where membercost=0;"
   ]
  },
  {
   "cell_type": "code",
   "execution_count": null,
   "metadata": {},
   "outputs": [],
   "source": [
    "#Q2: How many facilities do not charge a fee to members?\n",
    "select count(facid)\n",
    "from Facilities\n",
    "where membercost=0;"
   ]
  },
  {
   "cell_type": "code",
   "execution_count": null,
   "metadata": {},
   "outputs": [],
   "source": [
    "#Q3: How can you produce a list of facilities that charge a fee to members,\n",
    "#where the fee is less than 20% of the facility's monthly maintenance cost?\n",
    "#Return the facid, facility name, member cost, and monthly maintenance of the\n",
    "#facilities in question.\n",
    "SELECT facid,name,membercost,monthlymaintenance \n",
    "FROM `Facilities` \n",
    "WHERE membercost/monthlymaintenance <.2\n"
   ]
  },
  {
   "cell_type": "code",
   "execution_count": null,
   "metadata": {},
   "outputs": [],
   "source": [
    "#Q4: How can you retrieve the details of facilities with ID 1 and 5?\n",
    "#Write the query without using the OR operator.\n",
    "SELECT * \n",
    "FROM Facilities\n",
    "WHERE facid\n",
    "IN ( 1, 5 ) \n",
    "LIMIT 0 , 30"
   ]
  },
  {
   "cell_type": "code",
   "execution_count": null,
   "metadata": {},
   "outputs": [],
   "source": [
    "#Q5: How can you produce a list of facilities, with each labelled as\n",
    "#'cheap' or 'expensive', depending on if their monthly maintenance cost is\n",
    "#more than $100? Return the name and monthly maintenance of the facilities\n",
    "#in question.\n",
    "SELECT name,monthlymaintenance,case when monthlymaintenance>100 then 'expensive'\n",
    "else 'cheap' end \n",
    "as Cost_Category\n",
    "from Facilities\n"
   ]
  },
  {
   "cell_type": "code",
   "execution_count": null,
   "metadata": {},
   "outputs": [],
   "source": [
    "#You'd like to get the first and last name of the last member(s)\n",
    "#who signed up. Do not use the LIMIT clause for your solution.\n",
    "select firstname,surname \n",
    "from Members \n",
    "where joindate=(select max(joindate) from Members)"
   ]
  },
  {
   "cell_type": "code",
   "execution_count": null,
   "metadata": {},
   "outputs": [],
   "source": [
    "#Q7: How can you produce a list of all members who have used a tennis court?\n",
    "#Include in your output the name of the court, and the name of the member\n",
    "#formatted as a single column. Ensure no duplicate data, and order by\n",
    "#the member name. \n",
    "\n",
    "select distinct(concat(Members.firstname,\" \",Members.surname,\" \",new.fac)) as MemberVisit from(\n",
    "select Facilities.facid,Bookings.memid as mem,Facilities.name as fac from Bookings \n",
    "left join Facilities on Bookings.facid=Facilities.facid\n",
    "where Facilities.name like 'Tennis%') as new\n",
    "left join Members on new.mem=Members.memid\n",
    "order by MemberVisit asc"
   ]
  },
  {
   "cell_type": "code",
   "execution_count": null,
   "metadata": {},
   "outputs": [],
   "source": [
    "#Q8: How can you produce a list of bookings on the day of 2012-09-14 which\n",
    "#will cost the member (or guest) more than $30? Remember that guests have\n",
    "#different costs to members (the listed costs are per half-hour 'slot'), and\n",
    "#the guest user's ID is always 0. Include in your output the name of the\n",
    "#facility, the name of the member formatted as a single column, and the cost.\n",
    "#Order by descending cost, and do not use any subqueries.\n",
    "\n",
    "select Facilities.name,concat(Members.firstname,\" \",Members.surname) as MemberName,case when Bookings.memid=0 then Bookings.slots*Facilities.guestcost else Bookings.slots*Facilities.membercost end as Cost\n",
    "from Bookings\n",
    "left join Facilities on Bookings.facid=Facilities.facid\n",
    "left join Members on Bookings.memid=Members.memid\n",
    "where left(Bookings.starttime,10)='2012-09-14'\n",
    "having Cost>30\n",
    "order by cost desc"
   ]
  },
  {
   "cell_type": "code",
   "execution_count": null,
   "metadata": {},
   "outputs": [],
   "source": [
    "#Q9: This time, produce the same result as in Q8, but using a subquery. \n",
    "\n",
    "select ref2.facname,concat(Members.firstname,\" \",Members.surname) as member_name, ref2.Cost\n",
    "From Members\n",
    "right join\n",
    "(select Facilities.name as facname,case when ref.memid=0 then Facilities.guestcost*ref.slots else Facilities.membercost*ref.slots end as Cost,ref.memid\n",
    "from Facilities right join \n",
    "(select facid,slots,starttime,memid\n",
    "from Bookings where left(starttime,10)='2012-09-14') as ref\n",
    "on Facilities.facid=ref.facid\n",
    "having cost>30) as ref2\n",
    "on Members.memid=ref2.memid\n",
    "order by Cost desc"
   ]
  },
  {
   "cell_type": "code",
   "execution_count": null,
   "metadata": {},
   "outputs": [],
   "source": [
    "#Q10: Produce a list of facilities with a total revenue less than 1000.\n",
    "#The output of facility name and total revenue, sorted by revenue. Remember\n",
    "#that there's a different cost for guests and members! \n",
    "select Facilities.name as FacilityName,sum(case when Bookings.memid=0 then Facilities.guestcost*Bookings.slots\n",
    "else Facilities.membercost*Bookings.slots end) as Revenue from Bookings\n",
    "left join Facilities on Bookings.facid = Facilities.facid\n",
    "group by Facilities.facid\n",
    "having Revenue<1000\n",
    "order by Revenue desc\n"
   ]
  }
 ],
 "metadata": {
  "kernelspec": {
   "display_name": "Python 3",
   "language": "python",
   "name": "python3"
  },
  "language_info": {
   "codemirror_mode": {
    "name": "ipython",
    "version": 3
   },
   "file_extension": ".py",
   "mimetype": "text/x-python",
   "name": "python",
   "nbconvert_exporter": "python",
   "pygments_lexer": "ipython3",
   "version": "3.7.6"
  }
 },
 "nbformat": 4,
 "nbformat_minor": 4
}
